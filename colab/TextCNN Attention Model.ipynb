{
 "cells": [
  {
   "cell_type": "code",
   "execution_count": 1,
   "metadata": {},
   "outputs": [
    {
     "name": "stdout",
     "output_type": "stream",
     "text": [
      "Version:  2.0.0\n",
      "Eager mode:  True\n"
     ]
    }
   ],
   "source": [
    "import numpy as np\n",
    "import os\n",
    "import tensorflow as tf\n",
    "import tensorflow_datasets as tfds\n",
    "\n",
    "import matplotlib.pyplot as plt\n",
    "\n",
    "print(\"Version: \", tf.__version__)\n",
    "print(\"Eager mode: \", tf.executing_eagerly())"
   ]
  },
  {
   "cell_type": "code",
   "execution_count": 2,
   "metadata": {},
   "outputs": [
    {
     "name": "stdout",
     "output_type": "stream",
     "text": [
      "True\n"
     ]
    }
   ],
   "source": [
    "os.environ[\"CUDA_DEVICE_ORDER\"]=\"PCI_BUS_ID\"\n",
    "os.environ[\"CUDA_VISIBLE_DEVICES\"] = \"0\"\n",
    "print(tf.test.is_gpu_available())"
   ]
  },
  {
   "cell_type": "code",
   "execution_count": 3,
   "metadata": {},
   "outputs": [],
   "source": [
    "train_data, test_data = tfds.load(name=\"imdb_reviews\", split=[\"train\", \"test\"], \n",
    "                                  batch_size=-1, as_supervised=True)\n",
    "\n",
    "train_examples, train_labels = tfds.as_numpy(train_data)\n",
    "test_examples, test_labels = tfds.as_numpy(test_data)"
   ]
  },
  {
   "cell_type": "code",
   "execution_count": 4,
   "metadata": {},
   "outputs": [
    {
     "name": "stdout",
     "output_type": "stream",
     "text": [
      "Training entries: 25000, test entries: 25000\n"
     ]
    },
    {
     "data": {
      "text/plain": [
       "array([b\"This was an absolutely terrible movie. Don't be lured in by Christopher Walken or Michael Ironside. Both are great actors, but this must simply be their worst role in history. Even their great acting could not redeem this movie's ridiculous storyline. This movie is an early nineties US propaganda piece. The most pathetic scenes were those when the Columbian rebels were making their cases for revolutions. Maria Conchita Alonso appeared phony, and her pseudo-love affair with Walken was nothing but a pathetic emotional plug in a movie that was devoid of any real meaning. I am disappointed that there are movies like this, ruining actor's like Christopher Walken's good name. I could barely sit through it.\",\n",
       "       b'I have been known to fall asleep during films, but this is usually due to a combination of things including, really tired, being warm and comfortable on the sette and having just eaten a lot. However on this occasion I fell asleep because the film was rubbish. The plot development was constant. Constantly slow and boring. Things seemed to happen, but with no explanation of what was causing them or why. I admit, I may have missed part of the film, but i watched the majority of it and everything just seemed to happen of its own accord without any real concern for anything else. I cant recommend this film at all.'],\n",
       "      dtype=object)"
      ]
     },
     "execution_count": 4,
     "metadata": {},
     "output_type": "execute_result"
    }
   ],
   "source": [
    "print(\"Training entries: {}, test entries: {}\".format(len(train_examples), len(test_examples)))\n",
    "train_examples[:2]"
   ]
  },
  {
   "cell_type": "code",
   "execution_count": 5,
   "metadata": {},
   "outputs": [
    {
     "data": {
      "text/plain": [
       "array([0, 0], dtype=int64)"
      ]
     },
     "execution_count": 5,
     "metadata": {},
     "output_type": "execute_result"
    }
   ],
   "source": [
    "train_labels[:2]"
   ]
  },
  {
   "cell_type": "code",
   "execution_count": 6,
   "metadata": {},
   "outputs": [],
   "source": [
    "from tqdm import tqdm\n",
    "from tensorflow.keras.preprocessing.sequence import pad_sequences\n",
    "from tensorflow.keras.models import Sequential\n",
    "from tensorflow.keras.preprocessing.text import Tokenizer\n",
    "from tensorflow.keras.utils import to_categorical\n",
    "from tensorflow.keras.callbacks import TensorBoard\n",
    "\n",
    "\n",
    "def load_data(examples, targets, num_words, sequence_length, test_size=0.20, oov_token=None):\n",
    "\n",
    "    reviews, labels = [], []\n",
    "\n",
    "    for example, label in zip(examples, targets):\n",
    "      reviews.append(str(example).strip())\n",
    "      labels.append(str(label).strip())\n",
    "\n",
    "    tokenizer = Tokenizer(num_words=num_words, oov_token=oov_token)\n",
    "    tokenizer.fit_on_texts(reviews)\n",
    "    X = tokenizer.texts_to_sequences(reviews)\n",
    "    X, y = np.array(X), np.array(labels)\n",
    "    X = pad_sequences(X, maxlen=sequence_length)\n",
    "\n",
    "    # convert labels to one-hot encoded\n",
    "    y = to_categorical(y)\n",
    "    \n",
    "    print (\"begin loding data...\")\n",
    "    data = {}\n",
    "    data[\"X_train\"] = X\n",
    "    data[\"y_train\"] = y\n",
    "    data[\"tokenizer\"] = tokenizer\n",
    "    data[\"int2label\"] =  {0: \"negative\", 1: \"positive\"}\n",
    "    data[\"label2int\"] = {\"negative\": 0, \"positive\": 1}\n",
    "\n",
    "    return data"
   ]
  },
  {
   "cell_type": "code",
   "execution_count": 7,
   "metadata": {},
   "outputs": [],
   "source": [
    "class TextCNNAttention(tf.keras.Model):\n",
    "    def __init__(self,\n",
    "                 word_index,\n",
    "                 embedding_dims,\n",
    "                 maxlen,\n",
    "                 class_num=2,\n",
    "                 weights=None,\n",
    "                 weights_trainable=False,\n",
    "                 kernel_sizes=[3, 4, 5],\n",
    "                 filter_size=128,\n",
    "                 name=None,\n",
    "                 **kwargs):\n",
    "      \n",
    "        super(TextCNNAttention, self).__init__(name=name, **kwargs)\n",
    "\n",
    "        self.vocab_size = len(word_index) + 1\n",
    "        self.max_len = max_len\n",
    "        self.kernel_sizes = kernel_sizes\n",
    "\n",
    "        if weights != None:\n",
    "            weights = np.array(weights)\n",
    "            self.embedding = tf.keras.layers.Embedding(self.vocab_size, \n",
    "                                  embedding_dims,input_length=self.max_len, \n",
    "                                  weights=[weights],\n",
    "                                  trainable=weights_trainable)\n",
    "        else:\n",
    "            self.embedding = tf.keras.layers.Embedding(self.vocab_size, \n",
    "                                  embedding_dims,\n",
    "                                  input_length=self.max_len)\n",
    "\n",
    "        self.convs = []\n",
    "        self.max_poolings = []\n",
    "        for i, k in enumerate(kernel_sizes):\n",
    "            self.convs.append(tf.keras.layers.Conv1D(filter_size, k, activation=\"relu\"))\n",
    "            self.max_poolings.append(tf.keras.layers.GlobalAvgPool1D())\n",
    "        self.dense = tf.keras.layers.Dense(class_num, activation='softmax')\n",
    "        self.bn = tf.keras.layers.BatchNormalization()\n",
    "        self.attention = tf.keras.layers.Attention()\n",
    "\n",
    "    def call(self, inputs, training=True):\n",
    "        q_embed = self.embedding(inputs)\n",
    "        v_embed = self.embedding(inputs)\n",
    "        convs = []\n",
    "\n",
    "        for i, k in enumerate(self.kernel_sizes):\n",
    "            q = self.convs[i](q_embed)\n",
    "            v = self.convs[i](v_embed)\n",
    "\n",
    "            q = self.max_poolings[i](q)\n",
    "            v = self.max_poolings[i](v)\n",
    "            q_v = self.attention([q, v])\n",
    "\n",
    "            convs.append(q_v)\n",
    "\n",
    "        out = tf.keras.layers.concatenate(convs)\n",
    "\n",
    "        out = self.bn(out, training=training)\n",
    "\n",
    "        out = self.dense(out)\n",
    "\n",
    "        return out\n"
   ]
  },
  {
   "cell_type": "code",
   "execution_count": 8,
   "metadata": {},
   "outputs": [
    {
     "name": "stdout",
     "output_type": "stream",
     "text": [
      "begin loding data...\n"
     ]
    }
   ],
   "source": [
    "embedding_dims = 300\n",
    "max_len= 100\n",
    "filter_size = 2\n",
    "\n",
    "\n",
    "data = load_data(train_examples[:], train_labels, 10000, 100)\n",
    "\n",
    "model = TextCNNAttention(data[\"tokenizer\"].word_index, embedding_dims, max_len, filter_size)\n",
    "\n",
    "\n",
    "\n",
    "if not os.path.isdir(\"logs\"):\n",
    "    os.mkdir(\"logs\")\n",
    "\n",
    "model.compile(loss=tf.keras.losses.BinaryCrossentropy(from_logits=True),\n",
    "              optimizer=tf.keras.optimizers.Adam(1e-4),\n",
    "              metrics=['accuracy'])"
   ]
  },
  {
   "cell_type": "code",
   "execution_count": 9,
   "metadata": {},
   "outputs": [
    {
     "name": "stdout",
     "output_type": "stream",
     "text": [
      "Train on 22500 samples, validate on 2500 samples\n",
      "Epoch 1/10\n",
      "22500/22500 [==============================] - 50s 2ms/sample - loss: 0.7240 - accuracy: 0.5063 - val_loss: 0.7240 - val_accuracy: 0.5100\n",
      "Epoch 2/10\n",
      "22500/22500 [==============================] - 61s 3ms/sample - loss: 0.7052 - accuracy: 0.5674 - val_loss: 0.7421 - val_accuracy: 0.5024\n",
      "Epoch 3/10\n",
      "22500/22500 [==============================] - 46s 2ms/sample - loss: 0.6248 - accuracy: 0.7611 - val_loss: 0.7513 - val_accuracy: 0.5024\n",
      "Epoch 4/10\n",
      "22500/22500 [==============================] - 46s 2ms/sample - loss: 0.5935 - accuracy: 0.8206 - val_loss: 0.6849 - val_accuracy: 0.6216\n",
      "Epoch 5/10\n",
      "22500/22500 [==============================] - 46s 2ms/sample - loss: 0.5814 - accuracy: 0.8463 - val_loss: 0.6122 - val_accuracy: 0.7800\n",
      "Epoch 6/10\n",
      "22500/22500 [==============================] - 46s 2ms/sample - loss: 0.5736 - accuracy: 0.8625 - val_loss: 0.6202 - val_accuracy: 0.7636\n",
      "Epoch 7/10\n",
      "22500/22500 [==============================] - 46s 2ms/sample - loss: 0.5683 - accuracy: 0.8724 - val_loss: 0.6227 - val_accuracy: 0.7576\n",
      "Epoch 8/10\n",
      "22500/22500 [==============================] - 46s 2ms/sample - loss: 0.5641 - accuracy: 0.8816 - val_loss: 0.6303 - val_accuracy: 0.7388\n",
      "Epoch 9/10\n",
      "22500/22500 [==============================] - 46s 2ms/sample - loss: 0.5616 - accuracy: 0.8861 - val_loss: 0.6171 - val_accuracy: 0.7724\n",
      "Epoch 10/10\n",
      "22500/22500 [==============================] - 47s 2ms/sample - loss: 0.5594 - accuracy: 0.8896 - val_loss: 0.6293 - val_accuracy: 0.7440\n",
      "Model: \"text_cnn_attention\"\n",
      "_________________________________________________________________\n",
      "Layer (type)                 Output Shape              Param #   \n",
      "=================================================================\n",
      "embedding (Embedding)        multiple                  25961700  \n",
      "_________________________________________________________________\n",
      "conv1d (Conv1D)              multiple                  115328    \n",
      "_________________________________________________________________\n",
      "conv1d_1 (Conv1D)            multiple                  153728    \n",
      "_________________________________________________________________\n",
      "conv1d_2 (Conv1D)            multiple                  192128    \n",
      "_________________________________________________________________\n",
      "global_average_pooling1d (Gl multiple                  0         \n",
      "_________________________________________________________________\n",
      "global_average_pooling1d_1 ( multiple                  0         \n",
      "_________________________________________________________________\n",
      "global_average_pooling1d_2 ( multiple                  0         \n",
      "_________________________________________________________________\n",
      "dense (Dense)                multiple                  770       \n",
      "_________________________________________________________________\n",
      "batch_normalization (BatchNo multiple                  1536      \n",
      "_________________________________________________________________\n",
      "attention (Attention)        multiple                  0         \n",
      "=================================================================\n",
      "Total params: 26,425,190\n",
      "Trainable params: 26,424,422\n",
      "Non-trainable params: 768\n",
      "_________________________________________________________________\n"
     ]
    }
   ],
   "source": [
    "if not os.path.isdir(\"logs\"):\n",
    "    os.mkdir(\"logs\")\n",
    "tensorboard = TensorBoard(log_dir=os.path.join(\"logs\", \"IMDB\"))\n",
    "\n",
    "history = model.fit(data[\"X_train\"], data[\"y_train\"],\n",
    "                    batch_size=256,\n",
    "                    epochs=10,\n",
    "                    validation_split = 0.1,\n",
    "                    callbacks=[tensorboard])\n",
    "\n",
    "model.save_weights(\"IMDB.h5\", overwrite=True)\n",
    "model.summary()"
   ]
  },
  {
   "cell_type": "code",
   "execution_count": 11,
   "metadata": {},
   "outputs": [
    {
     "name": "stdout",
     "output_type": "stream",
     "text": [
      "Output vector: [0. 1.]\n",
      "Prediction: positive\n"
     ]
    }
   ],
   "source": [
    "def get_predictions(text):\n",
    "    sequence = data[\"tokenizer\"].texts_to_sequences([text])\n",
    "    # pad the sequences\n",
    "    sequence = pad_sequences(sequence, maxlen=100)\n",
    "    # get the prediction\n",
    "    prediction = model.predict(sequence)[0]\n",
    "    return prediction, data[\"int2label\"][np.argmax(prediction)]\n",
    "\n",
    "text = \"The movie is awesome!\"\n",
    "output_vector, prediction = get_predictions(text)\n",
    "print(\"Output vector:\", output_vector)\n",
    "print(\"Prediction:\", prediction)"
   ]
  },
  {
   "cell_type": "code",
   "execution_count": 14,
   "metadata": {},
   "outputs": [
    {
     "name": "stdout",
     "output_type": "stream",
     "text": [
      "begin loding data...\n"
     ]
    }
   ],
   "source": [
    "test_data = load_data(train_examples, train_labels, 10000, 100)\n",
    "\n",
    "new_model = TextCNNAttention(test_data[\"tokenizer\"].word_index, embedding_dims, max_len, filter_size)\n",
    "new_model.load_weights(\"IMDB.h5\", by_name=True)"
   ]
  },
  {
   "cell_type": "code",
   "execution_count": 15,
   "metadata": {},
   "outputs": [
    {
     "name": "stdout",
     "output_type": "stream",
     "text": [
      "[0.48567432 0.5143257 ]\n",
      "positive\n"
     ]
    }
   ],
   "source": [
    "text = \"The movie is awesome!\"\n",
    "sequence = test_data[\"tokenizer\"].texts_to_sequences([text])\n",
    "sequence = pad_sequences(sequence, maxlen=100)\n",
    "prediction = new_model.predict(sequence)[0]\n",
    "\n",
    "print(prediction)\n",
    "print(test_data[\"int2label\"][np.argmax(prediction)])"
   ]
  },
  {
   "cell_type": "code",
   "execution_count": null,
   "metadata": {},
   "outputs": [],
   "source": []
  }
 ],
 "metadata": {
  "kernelspec": {
   "display_name": "Python 3",
   "language": "python",
   "name": "python3"
  },
  "language_info": {
   "codemirror_mode": {
    "name": "ipython",
    "version": 3
   },
   "file_extension": ".py",
   "mimetype": "text/x-python",
   "name": "python",
   "nbconvert_exporter": "python",
   "pygments_lexer": "ipython3",
   "version": "3.7.5"
  }
 },
 "nbformat": 4,
 "nbformat_minor": 2
}
