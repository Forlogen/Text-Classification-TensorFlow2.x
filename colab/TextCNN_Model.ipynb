{
  "nbformat": 4,
  "nbformat_minor": 0,
  "metadata": {
    "colab": {
      "name": "TextCNN Model.ipynb",
      "provenance": [],
      "collapsed_sections": []
    },
    "kernelspec": {
      "name": "python3",
      "display_name": "Python 3"
    },
    "accelerator": "GPU"
  },
  "cells": [
    {
      "cell_type": "code",
      "metadata": {
        "id": "ekhXI6SwH5pf",
        "colab_type": "code",
        "colab": {
          "base_uri": "https://localhost:8080/",
          "height": 141
        },
        "outputId": "65ff02db-fae5-4d1e-e378-141210e59d25"
      },
      "source": [
        "import numpy as np\n",
        "import os\n",
        "import tensorflow as tf\n",
        "import tensorflow_datasets as tfds\n",
        "\n",
        "import matplotlib.pyplot as plt\n",
        "\n",
        "print(\"Version: \", tf.__version__)\n",
        "print(\"Eager mode: \", tf.executing_eagerly())\n",
        "print(\"GPU is\", \"available\" if tf.config.list_physical_devices('GPU') else \"NOT AVAILABLE\")\n",
        "\n",
        "os.environ[\"CUDA_DEVICE_ORDER\"]=\"PCI_BUS_ID\"\n",
        "os.environ[\"CUDA_VISIBLE_DEVICES\"] = \"0\"\n",
        "print(tf.test.is_gpu_available())"
      ],
      "execution_count": 1,
      "outputs": [
        {
          "output_type": "stream",
          "text": [
            "Version:  2.2.0\n",
            "Eager mode:  True\n",
            "GPU is available\n",
            "WARNING:tensorflow:From <ipython-input-1-962f8674c6fe>:14: is_gpu_available (from tensorflow.python.framework.test_util) is deprecated and will be removed in a future version.\n",
            "Instructions for updating:\n",
            "Use `tf.config.list_physical_devices('GPU')` instead.\n",
            "True\n"
          ],
          "name": "stdout"
        }
      ]
    },
    {
      "cell_type": "code",
      "metadata": {
        "id": "orANKddBIzYd",
        "colab_type": "code",
        "colab": {
          "base_uri": "https://localhost:8080/",
          "height": 35
        },
        "outputId": "f64dcdbb-828e-471a-f89f-a6cac14552f0"
      },
      "source": [
        "train_data, test_data = tfds.load(name=\"imdb_reviews\", split=[\"train\", \"test\"], \n",
        "                                  batch_size=-1, as_supervised=True)\n",
        "\n",
        "train_examples, train_labels = tfds.as_numpy(train_data)\n",
        "test_examples, test_labels = tfds.as_numpy(test_data)\n",
        "\n",
        "print(\"Training entries: {}, test entries: {}\".format(len(train_examples), len(test_examples)))"
      ],
      "execution_count": 2,
      "outputs": [
        {
          "output_type": "stream",
          "text": [
            "Training entries: 25000, test entries: 25000\n"
          ],
          "name": "stdout"
        }
      ]
    },
    {
      "cell_type": "code",
      "metadata": {
        "id": "SbkT7Yz0I4k5",
        "colab_type": "code",
        "colab": {}
      },
      "source": [
        "from tqdm import tqdm\n",
        "from tensorflow.keras.preprocessing.sequence import pad_sequences\n",
        "from tensorflow.keras.models import Sequential\n",
        "from tensorflow.keras.preprocessing.text import Tokenizer\n",
        "from tensorflow.keras.utils import to_categorical\n",
        "from sklearn.model_selection import train_test_split\n",
        "\n",
        "def load_data(examples, targets, num_words, sequence_length, test_size=0.20, oov_token=None):\n",
        "\n",
        "    reviews, labels = [], []\n",
        "\n",
        "    for example, label in zip(examples, targets):\n",
        "      reviews.append(str(example).strip())\n",
        "      labels.append(str(label).strip())\n",
        "\n",
        "    tokenizer = Tokenizer(num_words=num_words, oov_token=oov_token)\n",
        "    tokenizer.fit_on_texts(reviews)\n",
        "    X = tokenizer.texts_to_sequences(reviews)\n",
        "    X, y = np.array(X), np.array(labels)\n",
        "    X = pad_sequences(X, maxlen=sequence_length)\n",
        "\n",
        "    # convert labels to one-hot encoded\n",
        "    y = to_categorical(y)\n",
        "    \n",
        "    print (\"begin loding data...\")\n",
        "    data = {}\n",
        "    data[\"X_train\"] = X\n",
        "    data[\"y_train\"] = y\n",
        "    data[\"tokenizer\"] = tokenizer\n",
        "    data[\"int2label\"] =  {0: \"negative\", 1: \"positive\"}\n",
        "    data[\"label2int\"] = {\"negative\": 0, \"positive\": 1}\n",
        "\n",
        "    return data"
      ],
      "execution_count": 20,
      "outputs": []
    },
    {
      "cell_type": "code",
      "metadata": {
        "id": "NaCyXdLNJzhv",
        "colab_type": "code",
        "colab": {}
      },
      "source": [
        "class TextCNN(tf.keras.Model):\n",
        "    def __init__(self,\n",
        "                 word_index,\n",
        "                 embedding_dims,\n",
        "                 maxlen,\n",
        "                 class_num=2,\n",
        "                 weights=None,\n",
        "                 weights_trainable=False,\n",
        "                 kernel_sizes=[3, 4, 5],\n",
        "                 filter_size=128,\n",
        "                 name=None,\n",
        "                 **kwargs):\n",
        "      \n",
        "        super(TextCNN, self).__init__(name=name, **kwargs)\n",
        "\n",
        "        self.vocab_size = len(word_index) + 1\n",
        "        self.max_len = max_len\n",
        "        self.kernel_sizes = kernel_sizes\n",
        "\n",
        "        if weights != None:\n",
        "            weights = np.array(weights)\n",
        "            self.embedding = tf.keras.layers.Embedding(self.vocab_size, \n",
        "                                  embedding_dims,input_length=self.max_len, \n",
        "                                  weights=[weights],\n",
        "                                  trainable=weights_trainable)\n",
        "        else:\n",
        "            self.embedding = tf.keras.layers.Embedding(self.vocab_size, \n",
        "                                  embedding_dims,\n",
        "                                  input_length=self.max_len)\n",
        "\n",
        "        self.convs = []\n",
        "        self.max_poolings = []\n",
        "        for i, k in enumerate(kernel_sizes):\n",
        "            self.convs.append(tf.keras.layers.Conv1D(filter_size, k, activation=\"relu\"))\n",
        "            self.max_poolings.append(tf.keras.layers.GlobalAvgPool1D())\n",
        "        self.dense = tf.keras.layers.Dense(class_num, activation='softmax')\n",
        "        self.bn = tf.keras.layers.BatchNormalization()\n",
        "\n",
        "    def call(self, inputs, training=True):\n",
        "        embedding = self.embedding(inputs)\n",
        "        convs = []\n",
        "\n",
        "        for i, k in enumerate(self.kernel_sizes):\n",
        "            out = self.convs[i](embedding)\n",
        "            out = self.max_poolings[i](out)\n",
        "            convs.append(out)\n",
        "\n",
        "        out = tf.keras.layers.concatenate(convs)\n",
        "\n",
        "        out = self.bn(out, training=training)\n",
        "\n",
        "        out = self.dense(out)\n",
        "\n",
        "        return out\n"
      ],
      "execution_count": 21,
      "outputs": []
    },
    {
      "cell_type": "code",
      "metadata": {
        "id": "-vRCGhV3MouS",
        "colab_type": "code",
        "colab": {
          "base_uri": "https://localhost:8080/",
          "height": 35
        },
        "outputId": "a42a5b31-245d-4ca5-95c0-0a46442d1870"
      },
      "source": [
        "embedding_dims = 300\n",
        "max_len= 100\n",
        "filter_size = 2\n",
        "\n",
        "\n",
        "data = load_data(train_examples, train_labels, 10000, 100)\n",
        "\n",
        "model = TextCNN(data[\"tokenizer\"].word_index, embedding_dims, max_len, filter_size)"
      ],
      "execution_count": 22,
      "outputs": [
        {
          "output_type": "stream",
          "text": [
            "begin loding data...\n"
          ],
          "name": "stdout"
        }
      ]
    },
    {
      "cell_type": "code",
      "metadata": {
        "id": "9W5mVoirM4Jd",
        "colab_type": "code",
        "colab": {}
      },
      "source": [
        "from tensorflow.keras.callbacks import TensorBoard\n",
        "\n",
        "if not os.path.isdir(\"logs\"):\n",
        "    os.mkdir(\"logs\")\n",
        "\n",
        "model.compile(loss=tf.keras.losses.BinaryCrossentropy(from_logits=True),\n",
        "              optimizer=tf.keras.optimizers.Adam(1e-4),\n",
        "              metrics=['accuracy'])"
      ],
      "execution_count": 23,
      "outputs": []
    },
    {
      "cell_type": "code",
      "metadata": {
        "id": "2bjoClGqPDMI",
        "colab_type": "code",
        "colab": {
          "base_uri": "https://localhost:8080/",
          "height": 835
        },
        "outputId": "ee3fb676-2b6f-4b60-bd90-25d96e7d702f"
      },
      "source": [
        "if not os.path.isdir(\"logs\"):\n",
        "    os.mkdir(\"logs\")\n",
        "tensorboard = TensorBoard(log_dir=os.path.join(\"logs\", \"IMDB\"))\n",
        "\n",
        "history = model.fit(data[\"X_train\"], data[\"y_train\"],\n",
        "                    batch_size=256,\n",
        "                    epochs=10,\n",
        "                    validation_split = 0.1,\n",
        "                    callbacks=[tensorboard],\n",
        "                    verbose=1)\n",
        "\n",
        "model.save_weights(\"IMDB.h5\", overwrite=True)\n",
        "model.summary()"
      ],
      "execution_count": 25,
      "outputs": [
        {
          "output_type": "stream",
          "text": [
            "Epoch 1/10\n",
            "88/88 [==============================] - 23s 263ms/step - loss: 0.6789 - accuracy: 0.6813 - val_loss: 0.7152 - val_accuracy: 0.7528\n",
            "Epoch 2/10\n",
            "88/88 [==============================] - 22s 254ms/step - loss: 0.6007 - accuracy: 0.8331 - val_loss: 0.6940 - val_accuracy: 0.8504\n",
            "Epoch 3/10\n",
            "88/88 [==============================] - 22s 254ms/step - loss: 0.5707 - accuracy: 0.8808 - val_loss: 0.6647 - val_accuracy: 0.8592\n",
            "Epoch 4/10\n",
            "88/88 [==============================] - 22s 253ms/step - loss: 0.5566 - accuracy: 0.9057 - val_loss: 0.6308 - val_accuracy: 0.8596\n",
            "Epoch 5/10\n",
            "88/88 [==============================] - 22s 255ms/step - loss: 0.5474 - accuracy: 0.9233 - val_loss: 0.6029 - val_accuracy: 0.8536\n",
            "Epoch 6/10\n",
            "88/88 [==============================] - 22s 254ms/step - loss: 0.5403 - accuracy: 0.9363 - val_loss: 0.5877 - val_accuracy: 0.8524\n",
            "Epoch 7/10\n",
            "88/88 [==============================] - 22s 250ms/step - loss: 0.5354 - accuracy: 0.9447 - val_loss: 0.5822 - val_accuracy: 0.8512\n",
            "Epoch 8/10\n",
            "88/88 [==============================] - 22s 254ms/step - loss: 0.5314 - accuracy: 0.9515 - val_loss: 0.5810 - val_accuracy: 0.8468\n",
            "Epoch 9/10\n",
            "88/88 [==============================] - 22s 255ms/step - loss: 0.5287 - accuracy: 0.9564 - val_loss: 0.5809 - val_accuracy: 0.8472\n",
            "Epoch 10/10\n",
            "88/88 [==============================] - 22s 255ms/step - loss: 0.5265 - accuracy: 0.9594 - val_loss: 0.5817 - val_accuracy: 0.8420\n",
            "Model: \"text_cnn_1\"\n",
            "_________________________________________________________________\n",
            "Layer (type)                 Output Shape              Param #   \n",
            "=================================================================\n",
            "embedding_1 (Embedding)      multiple                  25961700  \n",
            "_________________________________________________________________\n",
            "conv1d_3 (Conv1D)            multiple                  115328    \n",
            "_________________________________________________________________\n",
            "conv1d_4 (Conv1D)            multiple                  153728    \n",
            "_________________________________________________________________\n",
            "conv1d_5 (Conv1D)            multiple                  192128    \n",
            "_________________________________________________________________\n",
            "global_average_pooling1d_3 ( multiple                  0         \n",
            "_________________________________________________________________\n",
            "global_average_pooling1d_4 ( multiple                  0         \n",
            "_________________________________________________________________\n",
            "global_average_pooling1d_5 ( multiple                  0         \n",
            "_________________________________________________________________\n",
            "dense_1 (Dense)              multiple                  770       \n",
            "_________________________________________________________________\n",
            "batch_normalization_1 (Batch multiple                  1536      \n",
            "=================================================================\n",
            "Total params: 26,425,190\n",
            "Trainable params: 26,424,422\n",
            "Non-trainable params: 768\n",
            "_________________________________________________________________\n"
          ],
          "name": "stdout"
        }
      ]
    },
    {
      "cell_type": "code",
      "metadata": {
        "id": "5fbkU2YnTW2k",
        "colab_type": "code",
        "colab": {
          "base_uri": "https://localhost:8080/",
          "height": 52
        },
        "outputId": "12786131-13f6-49ba-af6a-928afec784d5"
      },
      "source": [
        "def get_predictions(text):\n",
        "    sequence = data[\"tokenizer\"].texts_to_sequences([text])\n",
        "    # pad the sequences\n",
        "    sequence = pad_sequences(sequence, maxlen=100)\n",
        "    # get the prediction\n",
        "    prediction = model.predict(sequence)[0]\n",
        "    return prediction, data[\"int2label\"][np.argmax(prediction)]\n",
        "\n",
        "text = \"The movie is awesome!\"\n",
        "output_vector, prediction = get_predictions(text)\n",
        "print(\"Output vector:\", output_vector)\n",
        "print(\"Prediction:\", prediction)"
      ],
      "execution_count": 26,
      "outputs": [
        {
          "output_type": "stream",
          "text": [
            "Output vector: [0.08596624 0.9140338 ]\n",
            "Prediction: positive\n"
          ],
          "name": "stdout"
        }
      ]
    },
    {
      "cell_type": "code",
      "metadata": {
        "id": "1salSGVhfAL0",
        "colab_type": "code",
        "colab": {
          "base_uri": "https://localhost:8080/",
          "height": 35
        },
        "outputId": "562ad6ef-5aff-4b8e-ad86-ad3ef02eaa2e"
      },
      "source": [
        "test_data = load_data(train_examples, train_labels, 10000, 100)\n",
        "\n",
        "new_model = TextCNN(test_data[\"tokenizer\"].word_index, embedding_dims, max_len, filter_size)"
      ],
      "execution_count": 28,
      "outputs": [
        {
          "output_type": "stream",
          "text": [
            "begin loding data...\n"
          ],
          "name": "stdout"
        }
      ]
    },
    {
      "cell_type": "code",
      "metadata": {
        "id": "q5Ai5z4ZfLTW",
        "colab_type": "code",
        "colab": {}
      },
      "source": [
        "new_model.load_weights(\"IMDB.h5\", by_name=True)"
      ],
      "execution_count": 31,
      "outputs": []
    },
    {
      "cell_type": "code",
      "metadata": {
        "id": "lCJ1-3JmhAQC",
        "colab_type": "code",
        "colab": {
          "base_uri": "https://localhost:8080/",
          "height": 52
        },
        "outputId": "cacca661-6ce2-4f7a-9aa2-3b8c716ccb00"
      },
      "source": [
        "text = \"The movie is awesome!\"\n",
        "sequence = test_data[\"tokenizer\"].texts_to_sequences([text])\n",
        "sequence = pad_sequences(sequence, maxlen=100)\n",
        "prediction = new_model.predict(sequence)[0]\n",
        "\n",
        "print(prediction)\n",
        "print(test_data[\"int2label\"][np.argmax(prediction)])"
      ],
      "execution_count": 34,
      "outputs": [
        {
          "output_type": "stream",
          "text": [
            "[0.50370336 0.49629664]\n",
            "negative\n"
          ],
          "name": "stdout"
        }
      ]
    },
    {
      "cell_type": "code",
      "metadata": {
        "id": "La9FnWJXh2Af",
        "colab_type": "code",
        "colab": {}
      },
      "source": [
        ""
      ],
      "execution_count": null,
      "outputs": []
    }
  ]
}